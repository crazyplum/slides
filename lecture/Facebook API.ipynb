{
 "cells": [
  {
   "cell_type": "markdown",
   "metadata": {
    "slideshow": {
     "slide_type": "slide"
    }
   },
   "source": [
    "## Facebook API Basic Intro"
   ]
  },
  {
   "cell_type": "markdown",
   "metadata": {
    "slideshow": {
     "slide_type": "slide"
    }
   },
   "source": [
    "## Create a New App\n",
    "https://developers.facebook.com/apps/\n",
    "![alt text](img/fb_1.png)"
   ]
  },
  {
   "cell_type": "markdown",
   "metadata": {
    "slideshow": {
     "slide_type": "subslide"
    }
   },
   "source": [
    "![alt text](img/fb_2.png)"
   ]
  },
  {
   "cell_type": "markdown",
   "metadata": {
    "slideshow": {
     "slide_type": "subslide"
    }
   },
   "source": [
    "![alt text](img/fb_3.png)"
   ]
  },
  {
   "cell_type": "markdown",
   "metadata": {
    "slideshow": {
     "slide_type": "subslide"
    }
   },
   "source": [
    "![alt text](img/fb_5.png)"
   ]
  },
  {
   "cell_type": "markdown",
   "metadata": {
    "slideshow": {
     "slide_type": "subslide"
    }
   },
   "source": [
    "![alt text](img/fb_4.png)"
   ]
  },
  {
   "cell_type": "markdown",
   "metadata": {
    "slideshow": {
     "slide_type": "slide"
    }
   },
   "source": [
    "## Facebook Javascript SDK\n",
    "* https://developers.facebook.com/docs/javascript/quickstart/v2.5\n",
    "* The following snippet of code will give the basic version of the SDK where the options are set to their most common defaults. You should insert it directly after the opening <body> tag on each page you want to load it:\n",
    "```\n",
    "<script>\n",
    "  window.fbAsyncInit = function() {\n",
    "    FB.init({\n",
    "      appId      : '<your-app-id>',\n",
    "      xfbml      : true,\n",
    "      version    : 'v2.5'\n",
    "    });\n",
    "  };\n",
    "\n",
    "  (function(d, s, id){\n",
    "     var js, fjs = d.getElementsByTagName(s)[0];\n",
    "     if (d.getElementById(id)) {return;}\n",
    "     js = d.createElement(s); js.id = id;\n",
    "     js.src = \"//connect.facebook.net/en_US/sdk.js\";\n",
    "     fjs.parentNode.insertBefore(js, fjs);\n",
    "   }(document, 'script', 'facebook-jssdk'));\n",
    "</script>\n",
    "```"
   ]
  }
 ],
 "metadata": {
  "celltoolbar": "Slideshow",
  "kernelspec": {
   "display_name": "Python 3",
   "language": "python",
   "name": "python3"
  },
  "language_info": {
   "codemirror_mode": {
    "name": "ipython",
    "version": 3
   },
   "file_extension": ".py",
   "mimetype": "text/x-python",
   "name": "python",
   "nbconvert_exporter": "python",
   "pygments_lexer": "ipython3",
   "version": "3.5.0"
  }
 },
 "nbformat": 4,
 "nbformat_minor": 0
}
