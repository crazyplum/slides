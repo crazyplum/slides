{
 "cells": [
  {
   "cell_type": "markdown",
   "metadata": {
    "slideshow": {
     "slide_type": "slide"
    }
   },
   "source": [
    "## Facebook API Basic Intro"
   ]
  },
  {
   "cell_type": "markdown",
   "metadata": {
    "slideshow": {
     "slide_type": "slide"
    }
   },
   "source": [
    "## Graph API and Social Plugin"
   ]
  },
  {
   "cell_type": "markdown",
   "metadata": {
    "slideshow": {
     "slide_type": "subslide"
    }
   },
   "source": [
    "## [Graph API](https://developers.facebook.com/docs/graph-api/overview/)\n",
    "* The Graph API is named after the idea of a 'social graph' - a representation of the information on Facebook composed of: nodes, edges, fields\n",
    "* nodes - basically \"things\" such as a User, a Photo, a Page, a Comment.<br>\n",
    "Each node has a unique ID which is used to access it via the Graph API.\n",
    "* edges - the connections between those \"things\", such as a Page's Photos, or a Photo's Comments\n",
    "* fields - fields - info about those \"things\", such as the birthday of a User, or the name of a Page\n",
    "* You can try the Graph API using [Graph API Explorer](https://developers.facebook.com/tools/explorer)"
   ]
  },
  {
   "cell_type": "markdown",
   "metadata": {
    "slideshow": {
     "slide_type": "subslide"
    }
   },
   "source": [
    "## [Social Plugins](https://developers.facebook.com/docs/plugins?locale=zh_TW)\n",
    "* You can embeded Facebook's login buttion, comments field and like buttons into your webpage or apps.\n"
   ]
  },
  {
   "cell_type": "markdown",
   "metadata": {
    "slideshow": {
     "slide_type": "slide"
    }
   },
   "source": [
    "## Create a New App\n",
    "https://developers.facebook.com/apps/\n",
    "![alt text](img/fb_1.png)"
   ]
  },
  {
   "cell_type": "markdown",
   "metadata": {
    "slideshow": {
     "slide_type": "subslide"
    }
   },
   "source": [
    "![alt text](img/fb_2.png)"
   ]
  },
  {
   "cell_type": "markdown",
   "metadata": {
    "slideshow": {
     "slide_type": "subslide"
    }
   },
   "source": [
    "![alt text](img/fb_3.png)"
   ]
  },
  {
   "cell_type": "markdown",
   "metadata": {
    "slideshow": {
     "slide_type": "subslide"
    }
   },
   "source": [
    "![alt text](img/fb_5.png)"
   ]
  },
  {
   "cell_type": "markdown",
   "metadata": {
    "slideshow": {
     "slide_type": "subslide"
    }
   },
   "source": [
    "![alt text](img/fb_4.png)"
   ]
  },
  {
   "cell_type": "markdown",
   "metadata": {
    "slideshow": {
     "slide_type": "slide"
    }
   },
   "source": [
    "## Facebook Javascript SDK\n",
    "* https://developers.facebook.com/docs/javascript/quickstart/v2.5\n",
    "* The following snippet of code will give the basic version of the SDK where the options are set to their most common defaults. You should insert it directly after the opening <body> tag on each page you want to load it:\n",
    "```\n",
    "<script>\n",
    "  window.fbAsyncInit = function() {\n",
    "    FB.init({\n",
    "      appId      : '<your-app-id>',\n",
    "      xfbml      : true,\n",
    "      version    : 'v2.5'\n",
    "    });\n",
    "  };\n",
    "\n",
    "  (function(d, s, id){\n",
    "     var js, fjs = d.getElementsByTagName(s)[0];\n",
    "     if (d.getElementById(id)) {return;}\n",
    "     js = d.createElement(s); js.id = id;\n",
    "     js.src = \"//connect.facebook.net/en_US/sdk.js\";\n",
    "     fjs.parentNode.insertBefore(js, fjs);\n",
    "   }(document, 'script', 'facebook-jssdk'));\n",
    "</script>\n",
    "```"
   ]
  },
  {
   "cell_type": "markdown",
   "metadata": {
    "slideshow": {
     "slide_type": "subslide"
    }
   },
   "source": [
    "## Facebook Javascript SDK with jQuery\n",
    "* https://developers.facebook.com/docs/javascript/howto/jquery/v2.5\n",
    "```\n",
    "$(document).ready(function() {\n",
    "    $.ajaxSetup({ cache: true });\n",
    "    $.getScript('//connect.facebook.net/en_US/sdk.js', function(){\n",
    "    FB.init({\n",
    "        appId: '{your-app-id}',\n",
    "        version: 'v2.5' // or v2.0, v2.1, v2.2, v2.3, v2.4\n",
    "    });     \n",
    "    $('#loginbutton,#feedbutton').removeAttr('disabled');   \n",
    "  });\n",
    "});\n",
    "```"
   ]
  },
  {
   "cell_type": "markdown",
   "metadata": {
    "slideshow": {
     "slide_type": "subslide"
    }
   },
   "source": [
    "## Facebook Login \n",
    "* [Facebook Offical Login Example](https://developers.facebook.com/docs/facebook-login/web)\n",
    "* After you loaded the Facebook Javascript SDK, you can use Facebook Social Plugin's button: <br>\n",
    "`<div class=\"fb-login-button\" data-max-rows=\"1\" data-size=\"xlarge\" data-show-faces=\"false\" data-auto-logout-link=\"false\" onlogin=\"checkLoginState()\"></div>\n",
    "`\n",
    "* Settings for the Login button: https://developers.facebook.com/docs/facebook-login/web/login-button\n",
    "* You can use `scope` to specify ask user to grant [permissions](https://developers.facebook.com/docs/facebook-login/permissions/v2.5) to you.\n",
    "* `onlogin()=checkLoginState()` is the callback function after user successfully logged in."
   ]
  },
  {
   "cell_type": "markdown",
   "metadata": {
    "slideshow": {
     "slide_type": "subslide"
    }
   },
   "source": [
    "## Check Login Status\n",
    "* Use `FB.getLoginStatus()` to trigger a call to Facebook to get the login status and call your callback function with the results.\n",
    "* You would get a `response` object from Facebook server.\n",
    "![alt text](img/fb_6.png)\n",
    "* *accessToken* is essential for you to use other Graph API calls."
   ]
  },
  {
   "cell_type": "markdown",
   "metadata": {
    "slideshow": {
     "slide_type": "subslide"
    }
   },
   "source": [
    "## Facebook Graph API with Javascript SDK\n",
    "* `FB.api()` to invoke Facebook Graph API<br>\n",
    "* Example: Get user name and user id <br>\n",
    "```FB.api('/<user-id>', function(response){\n",
    "   var user_name = response.name;\n",
    "   var user_id = response.id;\n",
    "})\n",
    "```\n",
    "* Example: Get user profile picture <br>\n",
    "```FB.api('/<user-id>/picture', function(response){\n",
    "    var img_url = response.data['url'];\n",
    "}```\n",
    "* Example: Get user's friends <br>\n",
    "```FB.api('/<user-id>/friends', function(response){\n",
    "    var friends_list = response.data;\n",
    "} // you may need to ask for 'user_friends' permission while user logging in.\n",
    "```\n",
    "* You should always read the documentation to know what parameters you can use.\n",
    "* You can try the parameters and api with Graph API Explorer first."
   ]
  },
  {
   "cell_type": "markdown",
   "metadata": {
    "slideshow": {
     "slide_type": "slide"
    }
   },
   "source": [
    "## Practice\n",
    "* Build a very simple web application that users can login with their Facebook accounts and show their name and profile pictures on webpage.\n",
    "* Your web application should contains two pages '/' for users to login and '/success' to show their name and profile pictures.\n",
    "* Upload your html files and screenshots to ilms by 15:30 today.\n",
    "* Example screenshots:\n",
    "![alt text](img/fb_9.png)\n"
   ]
  }
 ],
 "metadata": {
  "celltoolbar": "Slideshow",
  "kernelspec": {
   "display_name": "Python 3",
   "language": "python",
   "name": "python3"
  },
  "language_info": {
   "codemirror_mode": {
    "name": "ipython",
    "version": 3
   },
   "file_extension": ".py",
   "mimetype": "text/x-python",
   "name": "python",
   "nbconvert_exporter": "python",
   "pygments_lexer": "ipython3",
   "version": "3.5.0"
  }
 },
 "nbformat": 4,
 "nbformat_minor": 0
}
