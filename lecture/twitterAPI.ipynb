{
 "cells": [
  {
   "cell_type": "markdown",
   "metadata": {
    "slideshow": {
     "slide_type": "slide"
    }
   },
   "source": [
    "## Twitter API"
   ]
  },
  {
   "cell_type": "markdown",
   "metadata": {
    "slideshow": {
     "slide_type": "subslide"
    }
   },
   "source": [
    "## To use Twitter API\n",
    "1. Create an account on Twitter (if you don't have one)\n",
    "2. Create an application and get the authentication key<br>\n",
    "   https://apps.twitter.com/"
   ]
  },
  {
   "cell_type": "markdown",
   "metadata": {
    "slideshow": {
     "slide_type": "subslide"
    }
   },
   "source": [
    "## Create an App\n",
    "![alt text](img/twi_0.png)"
   ]
  },
  {
   "cell_type": "markdown",
   "metadata": {
    "slideshow": {
     "slide_type": "subslide"
    }
   },
   "source": [
    "## Get your api key and access token\n",
    "![alt text](img/twi_1.png)"
   ]
  },
  {
   "cell_type": "markdown",
   "metadata": {
    "slideshow": {
     "slide_type": "subslide"
    }
   },
   "source": [
    "## Save to a file\n",
    "* For security, you should never explicit use your key and access token in your code.\n",
    "* You should save your key and access token into a file and load it when your execute your program`"
   ]
  },
  {
   "cell_type": "markdown",
   "metadata": {
    "slideshow": {
     "slide_type": "slide"
    }
   },
   "source": [
    "## TwitterAPI\n",
    "* `pip install TwitterAPI`"
   ]
  },
  {
   "cell_type": "code",
   "execution_count": null,
   "metadata": {
    "collapsed": false,
    "slideshow": {
     "slide_type": "fragment"
    }
   },
   "outputs": [],
   "source": [
    "from TwitterAPI import TwitterAPI\n",
    "import fileinput\n",
    "\n",
    "if __name__ == '__main__':\n",
    "    lines = [x.strip() for x in fileinput.input()]\n",
    "    api = TwitterAPI(lines[0], lins[1], lines[2], lines[3])"
   ]
  },
  {
   "cell_type": "markdown",
   "metadata": {
    "slideshow": {
     "slide_type": "subslide"
    }
   },
   "source": [
    "## Check Twitter Offical API documentation\n",
    "* There are two kinds of API: [REST APIs](https://dev.twitter.com/rest/public) and [Streaming API](https://dev.twitter.com/streaming/public)"
   ]
  },
  {
   "cell_type": "code",
   "execution_count": null,
   "metadata": {
    "collapsed": false,
    "slideshow": {
     "slide_type": "fragment"
    }
   },
   "outputs": [],
   "source": [
    "## REST API Examples - get specific user timeline\n",
    "r = api.request('statuses/user_timeline', {'screen_name': 'taylorswift13'})\n",
    "for item in r:\n",
    "    print(json.dumps(item, indent=4, sort_keys=True))  ##print the tweet objects out\n",
    "    print(item['user']['screen_name'])    ##print user's screen_name\n",
    "    print([x for x in item['entities']['hashtags']])  ## print the hash tags in user's tweets"
   ]
  },
  {
   "cell_type": "code",
   "execution_count": null,
   "metadata": {
    "collapsed": true,
    "slideshow": {
     "slide_type": "fragment"
    }
   },
   "outputs": [],
   "source": [
    "## Streaming API Examples - sample the current public statuses \n",
    "r = api.request('statuses/sample')\n",
    "for item in r:\n",
    "    if item.get('user') is not None:\n",
    "        print('{}: {}'.format(item['user']['screen_name'], item['text']))\n",
    "        \n",
    "## Track tweets containing keyword\n",
    "r = api.request('statuses/filter', {'track': 'xmas'})\n",
    "for item in r:\n",
    "        print('{}: {}'.format(item['user']['screen_name'], item['text']))"
   ]
  },
  {
   "cell_type": "markdown",
   "metadata": {
    "slideshow": {
     "slide_type": "slide"
    }
   },
   "source": [
    "## Practice\n",
    "1. Get a follower list of an aribitary Twitter user. （REST API)\n",
    "2. Use stream API to track newest tweets from San Francisco (-122.75,36.8,-121.75,37.8) and output the top 5 hashtags <br>\n",
    "(Hint: It's stream API, so perhaps you would like to wait for few minutes to collect enough tweets)\n",
    "* Demo to TA and upload your code to iLMS)"
   ]
  },
  {
   "cell_type": "markdown",
   "metadata": {
    "slideshow": {
     "slide_type": "subslide"
    }
   },
   "source": [
    "## Hint\n",
    "* You can execute your program like this: `python twitter.py < key`"
   ]
  }
 ],
 "metadata": {
  "celltoolbar": "Slideshow",
  "kernelspec": {
   "display_name": "Python 3",
   "language": "python",
   "name": "python3"
  },
  "language_info": {
   "codemirror_mode": {
    "name": "ipython",
    "version": 3
   },
   "file_extension": ".py",
   "mimetype": "text/x-python",
   "name": "python",
   "nbconvert_exporter": "python",
   "pygments_lexer": "ipython3",
   "version": "3.5.0"
  }
 },
 "nbformat": 4,
 "nbformat_minor": 0
}
