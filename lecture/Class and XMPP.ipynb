{
 "cells": [
  {
   "cell_type": "markdown",
   "metadata": {
    "slideshow": {
     "slide_type": "slide"
    }
   },
   "source": [
    "## Class"
   ]
  },
  {
   "cell_type": "code",
   "execution_count": 1,
   "metadata": {
    "collapsed": false,
    "slideshow": {
     "slide_type": "subslide"
    }
   },
   "outputs": [
    {
     "data": {
      "text/plain": [
       "(3.0, -4.5)"
      ]
     },
     "execution_count": 1,
     "metadata": {},
     "output_type": "execute_result"
    }
   ],
   "source": [
    "class Complex:\n",
    "    def __init__(self, realpart, imagpart):\n",
    "        self.r = realpart\n",
    "        self.i = imagpart\n",
    "\n",
    "x = Complex(3.0, -4.5)   ## create the instance object of class\n",
    "x.r, x.i                 ## instance variables"
   ]
  },
  {
   "cell_type": "code",
   "execution_count": 2,
   "metadata": {
    "collapsed": false,
    "slideshow": {
     "slide_type": "subslide"
    }
   },
   "outputs": [
    {
     "name": "stdout",
     "output_type": "stream",
     "text": [
      "canine\n",
      "canine\n",
      "Fido\n",
      "Buddy\n"
     ]
    }
   ],
   "source": [
    "class Dog:\n",
    "    \n",
    "    kind = 'canine'             ## class variable share by all instances\n",
    "    \n",
    "    def __init__(self, name): \n",
    "        self.name = name        ## instance variable unique to each instance\n",
    "        \n",
    "d = Dog('Fido')\n",
    "e = Dog('Buddy')\n",
    "print(d.kind)\n",
    "print(e.kind)\n",
    "print(d.name)\n",
    "print(e.name)"
   ]
  },
  {
   "cell_type": "code",
   "execution_count": 6,
   "metadata": {
    "collapsed": false,
    "slideshow": {
     "slide_type": "subslide"
    }
   },
   "outputs": [
    {
     "name": "stdout",
     "output_type": "stream",
     "text": [
      "['roll over', 'play dead']\n"
     ]
    }
   ],
   "source": [
    "##WRONG!!\n",
    "class Dog:\n",
    "    \n",
    "    tricks = []             ## class variable share by all instances\n",
    "    \n",
    "    def __init__(self, name): \n",
    "        self.name = name        ## instance variable unique to each instance\n",
    "        \n",
    "    def add_trick(self, trick):\n",
    "        self.tricks.append(trick)\n",
    "        \n",
    "d = Dog('Fido')\n",
    "e = Dog('Buddy')\n",
    "d.add_trick('roll over')\n",
    "e.add_trick('play dead')\n",
    "print(d.tricks)        ## unexpectedly shared by dogsb"
   ]
  },
  {
   "cell_type": "code",
   "execution_count": 5,
   "metadata": {
    "collapsed": false,
    "slideshow": {
     "slide_type": "subslide"
    }
   },
   "outputs": [
    {
     "name": "stdout",
     "output_type": "stream",
     "text": [
      "['roll over']\n"
     ]
    }
   ],
   "source": [
    "##CORRECT!!\n",
    "class Dog:\n",
    "    \n",
    "    def __init__(self, name): \n",
    "        self.name = name        ## instance variable unique to each instance\n",
    "        self.tricks = []\n",
    "        \n",
    "    def add_trick(self, trick):\n",
    "        self.tricks.append(trick)\n",
    "        \n",
    "d = Dog('Fido')\n",
    "e = Dog('Buddy')\n",
    "d.add_trick('roll over')\n",
    "e.add_trick('play dead')\n",
    "print(d.tricks)        "
   ]
  },
  {
   "cell_type": "code",
   "execution_count": null,
   "metadata": {
    "collapsed": true,
    "slideshow": {
     "slide_type": "subslide"
    }
   },
   "outputs": [],
   "source": [
    "class Bag:\n",
    "    \n",
    "    def __init__(self):\n",
    "        self.data = []\n",
    "    \n",
    "    def add(self, x):\n",
    "        self.data.append(x)\n",
    "    \n",
    "    def add_twice(self, x):\n",
    "        self.add(x)          ## methods may call other methods by using method attributes of the 'self' argument\n",
    "        self.add(x)"
   ]
  },
  {
   "cell_type": "markdown",
   "metadata": {
    "slideshow": {
     "slide_type": "subslide"
    }
   },
   "source": [
    "## Inheritance\n",
    "* When the class object is constructed, the base class is remembered.<br>\n",
    "  This is used for resolving attribute references: if a requested attribute is not found in the class, the search would procced to look in the base class recursively."
   ]
  },
  {
   "cell_type": "code",
   "execution_count": null,
   "metadata": {
    "collapsed": true,
    "slideshow": {
     "slide_type": "subslide"
    }
   },
   "outputs": [],
   "source": [
    "## syntax of derived class definition\n",
    "class DerivedClassName(BaseClassName):\n",
    "    <statement-1>\n",
    "    .\n",
    "    .\n",
    "    .\n",
    "    <statement-2>"
   ]
  },
  {
   "cell_type": "code",
   "execution_count": null,
   "metadata": {
    "collapsed": true,
    "slideshow": {
     "slide_type": "-"
    }
   },
   "outputs": [],
   "source": [
    "## syntax for multiple inheritance\n",
    "class DerivedClassName(Base1, Base2, Base3)    ## would search attributes depth-first, left-to-right\n",
    "     <statement-1>\n",
    "    .\n",
    "    .\n",
    "    .\n",
    "    <statement-2>"
   ]
  },
  {
   "cell_type": "code",
   "execution_count": 8,
   "metadata": {
    "collapsed": false,
    "slideshow": {
     "slide_type": "subslide"
    }
   },
   "outputs": [],
   "source": [
    "class Parent:\n",
    "    \n",
    "    parent_attr = 100\n",
    "    \n",
    "    def __init__(self):\n",
    "        print(\"calling parent constructor\")\n",
    "    \n",
    "    def parent_method(self):\n",
    "        print(\"calling parent method\")\n",
    "    \n",
    "    def set_attr(self, attr):\n",
    "        Parent.parent_attr = attr\n",
    "    \n",
    "    def get_attr(self):\n",
    "        print(\"Parent attr: {}\".format(Parent.parent_attr))"
   ]
  },
  {
   "cell_type": "code",
   "execution_count": 9,
   "metadata": {
    "collapsed": false,
    "slideshow": {
     "slide_type": "subslide"
    }
   },
   "outputs": [
    {
     "name": "stdout",
     "output_type": "stream",
     "text": [
      "calling child constructor\n",
      "calling child method\n",
      "calling parent method\n",
      "Parent attr: 200\n"
     ]
    }
   ],
   "source": [
    "class Child(Parent):\n",
    "    \n",
    "    def __init__(self):\n",
    "        print(\"calling child constructor\")\n",
    "    \n",
    "    def child_method(self):\n",
    "        print(\"calling child method\")\n",
    "        \n",
    "c = Child()\n",
    "c.child_method()\n",
    "c.parent_method()\n",
    "c.set_attr(200)\n",
    "c.get_attr()"
   ]
  },
  {
   "cell_type": "markdown",
   "metadata": {
    "slideshow": {
     "slide_type": "subslide"
    }
   },
   "source": [
    "## Private Variables\n",
    "* Private Variables that cannot be accessed except from inside and object don't exist in Python.\n",
    "* There's only **convention**: a name prefixed with an underscore (eg. _text) shoulb be treated as a non-public part."
   ]
  },
  {
   "cell_type": "markdown",
   "metadata": {
    "slideshow": {
     "slide_type": "slide"
    }
   },
   "source": [
    "## XMPP (Extensible Messaging and Presence Protocol)\n",
    "* It's a communications protocol for message-oriented middleware based on XML.\n",
    "* It's a open technology for real-time communication, such as instant messaging, presence, multi-party chat ... etc."
   ]
  },
  {
   "cell_type": "markdown",
   "metadata": {
    "slideshow": {
     "slide_type": "subslide"
    }
   },
   "source": [
    "## Three Fundamental Stanzas\n",
    "* Presence\n",
    "* Message\n",
    "* Iq"
   ]
  },
  {
   "cell_type": "markdown",
   "metadata": {
    "slideshow": {
     "slide_type": "subslide"
    }
   },
   "source": [
    "## Presence\n",
    "`<presence xmlns=\"jabber:client\" to=\"scad_bot@jabber.org\" \n",
    "    from=\"scad_client@jabber.org\">\n",
    "    <show>away</show>\n",
    "    <status>Away</status>\n",
    "</presence>\n",
    "`\n",
    "\n",
    "`<presence xmlns=\"jabber:client\" to=\"scad_bot@jabber.org\"\n",
    "    from=\"scad_client@jabber.org\" \n",
    "    type=\"unavailable\" />\n",
    "`\n",
    "\n",
    "* Presence stanzas would send to server and server would broadcast it to all your contacts."
   ]
  },
  {
   "cell_type": "markdown",
   "metadata": {
    "slideshow": {
     "slide_type": "subslide"
    }
   },
   "source": [
    "## Message\n",
    "`<message xmlns=\"jabber:client\" to=\"scad_bot@jabber.org\"\n",
    "  from=\"scad_client@jabber.org\" type=\"chat\">\n",
    "   <body>hello</body>\n",
    "</message>\n",
    "`"
   ]
  },
  {
   "cell_type": "markdown",
   "metadata": {
    "slideshow": {
     "slide_type": "subslide"
    }
   },
   "source": [
    "## IQ - Info/Query\n",
    "* similar to HTTP request/response, with four types: get, set, result, error\n",
    "* When log in onto a XMPP client, the client would send a IQ stanza to the server.\n",
    "\n",
    "` <iq from=\"juliet@gmail.com\" type=\"get\" id=\"roster_1\">\n",
    "        <query xmlns=\"jabber:iq:roster\"/>\n",
    "</iq>\n",
    "`\n",
    "\n",
    "* The server would then return a list of contacts back."
   ]
  },
  {
   "cell_type": "markdown",
   "metadata": {
    "slideshow": {
     "slide_type": "subslide"
    }
   },
   "source": [
    "## SleekXMPP\n",
    "* We are going to use this python library to write a chatbot in your assignment2.\n",
    "* `pip3 install sleekxmpp` to install"
   ]
  },
  {
   "cell_type": "code",
   "execution_count": null,
   "metadata": {
    "collapsed": true,
    "slideshow": {
     "slide_type": "subslide"
    }
   },
   "outputs": [],
   "source": [
    "class EchoBot(sleekxmpp.ClientXMPP):\n",
    "\n",
    "    \"\"\"\n",
    "    A simple SleekXMPP bot that will echo messages it\n",
    "    receives, along with a short thank you message.\n",
    "    \"\"\"\n",
    "\n",
    "    def __init__(self, jid, password):\n",
    "        sleekxmpp.ClientXMPP.__init__(self, jid, password)\n",
    "\n",
    "        # The session_start event will be triggered when\n",
    "        # the bot establishes its connection with the server\n",
    "        # and the XML streams are ready for use. We want to\n",
    "        # listen for this event so that we we can initialize\n",
    "        # our roster.\n",
    "        self.add_event_handler(\"session_start\", self.start)\n",
    "\n",
    "        # The message event is triggered whenever a message\n",
    "        # stanza is received. Be aware that that includes\n",
    "        # MUC messages and error messages.\n",
    "        self.add_event_handler(\"message\", self.message)\n",
    "        \n",
    "    def start(self, event):\n",
    "        \"\"\"\n",
    "        Process the session_start event.\n",
    "\n",
    "        Typical actions for the session_start event are\n",
    "        requesting the roster and broadcasting an initial\n",
    "        presence stanza.\n",
    "\n",
    "        Arguments:\n",
    "            event -- An empty dictionary. The session_start\n",
    "                     event does not provide any additional\n",
    "                     data.\n",
    "        \"\"\"\n",
    "        self.send_presence()   ## send a Presence stanza to server\n",
    "        self.get_roster()      ## send a IQ stanza to server to get your contact list\n",
    "        \n",
    "    def message(self, msg):\n",
    "        \"\"\"\n",
    "        Process incoming message stanzas. Be aware that this also\n",
    "        includes MUC messages and error messages. It is usually\n",
    "        a good idea to check the messages's type before processing\n",
    "        or sending replies.\n",
    "\n",
    "        Arguments:\n",
    "            msg -- The received message stanza. See the documentation\n",
    "                   for stanza objects and the Message stanza to see\n",
    "                   how it may be used.\n",
    "        \"\"\"\n",
    "        if msg['type'] in ('chat', 'normal'):\n",
    "            ## TODO\n",
    "            pass\n"
   ]
  },
  {
   "cell_type": "markdown",
   "metadata": {
    "slideshow": {
     "slide_type": "slide"
    }
   },
   "source": [
    "## Lab Practice\n",
    "* create an account on https://www.xmpp.jp/signup\n",
    "* Download [Adium](https://adium.im/) if you are using mac, and download [Pidgin](https://pidgin.im/) if you are using windows or Linux as your XMPP client.\n",
    "* Download the code `echo_client.py` from ilms and complete the code to make the bot print out received messages and echoing back.\n",
    "* When you finished, run your code and ask TA to send you messages.\n",
    "* Capture the screenshot and submit to ilms before 3:30 today.\n",
    "![Alt text](img/screenshot.png)"
   ]
  },
  {
   "cell_type": "markdown",
   "metadata": {
    "slideshow": {
     "slide_type": "subslide"
    }
   },
   "source": [
    "## Hint\n",
    "* Message stanza is a dictionary-like object. You can access it just like dictionary.<br>\n",
    "eg. `msg['body']`, `msg['from']`, `msg['to']`\n",
    "* You can use `msg.reply()` method to generate a Message object to reply, and then use `send()` method to send the message."
   ]
  },
  {
   "cell_type": "markdown",
   "metadata": {
    "slideshow": {
     "slide_type": "slide"
    }
   },
   "source": [
    "## Reference\n",
    "* https://docs.python.org/3/tutorial/classes.html\n",
    "* [xmpp introduction](http://web.archive.org/web/20120621083428/http://www.adarshr.com/papers/xmpp2)\n",
    "* [sleekxmpp official site](http://sleekxmpp.com/index.html)\n",
    "* [sleekxmpp github wiki](https://github.com/fritzy/SleekXMPP/wiki)"
   ]
  }
 ],
 "metadata": {
  "celltoolbar": "Slideshow",
  "kernelspec": {
   "display_name": "Python 3",
   "language": "python",
   "name": "python3"
  },
  "language_info": {
   "codemirror_mode": {
    "name": "ipython",
    "version": 3
   },
   "file_extension": ".py",
   "mimetype": "text/x-python",
   "name": "python",
   "nbconvert_exporter": "python",
   "pygments_lexer": "ipython3",
   "version": "3.5.0"
  }
 },
 "nbformat": 4,
 "nbformat_minor": 0
}
